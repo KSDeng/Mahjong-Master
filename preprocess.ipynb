{
 "cells": [
  {
   "cell_type": "markdown",
   "metadata": {},
   "source": [
    "This is the preprocessing part of our project."
   ]
  },
  {
   "cell_type": "code",
   "execution_count": 42,
   "metadata": {},
   "outputs": [],
   "source": [
    "# import required module\n",
    "import os\n",
    "import skimage.io as io\n",
    "from skimage.transform import resize, rotate\n",
    "from skimage.util import random_noise, img_as_ubyte\n",
    "\n",
    "# assign directory\n",
    "directory = './dataset'\n",
    "output_directory = './dataset_preprocessed'\n",
    "skip_list = ['.DS_Store']\n",
    " \n",
    "is_debug = False\n",
    "fix_size = 64\n",
    "\n",
    "# save image with noise augmentation\n",
    "def noise_save(name, content):\n",
    "    io.imsave(name + '-1.png', img_as_ubyte(content))\n",
    "    image_noised_gaussian = random_noise(content, mode='gaussian', mean=0, var=0.01, clip=True)\n",
    "    io.imsave(name + '-2.png', img_as_ubyte(image_noised_gaussian))\n",
    "    image_noised_gaussian_2 = random_noise(content, mode='gaussian', mean=0, var=0.02, clip=True)\n",
    "    io.imsave(name + '-3.png', img_as_ubyte(image_noised_gaussian_2))\n",
    "    image_noised_s_p = random_noise(content, mode='s&p', salt_vs_pepper=0.5, clip=True)\n",
    "    io.imsave(name + '-4.png', img_as_ubyte(image_noised_s_p))\n",
    "    image_noised_s_p_2 = random_noise(content, mode='s&p', salt_vs_pepper=0.2, clip=True)\n",
    "    io.imsave(name + '-5.png', img_as_ubyte(image_noised_s_p_2))\n",
    "\n",
    "# save image with rotation augmentation\n",
    "def rotate_save(name, content):\n",
    "    noise_save(name + '-1', content)\n",
    "    content = rotate(content, 90)\n",
    "    noise_save(name + '-2', content)\n",
    "    content = rotate(content, 90)\n",
    "    noise_save(name + '-3', content)\n",
    "    content = rotate(content, 90)\n",
    "    noise_save(name + '-4', content)\n",
    "\n",
    "# iterate over files in that directory\n",
    "for filename in os.listdir(directory):\n",
    "    f = os.path.join(directory, filename)\n",
    "    f_out = os.path.join(output_directory, filename)\n",
    "    if not os.path.exists(f_out):\n",
    "        os.makedirs(f_out)\n",
    "    if os.path.isdir(f):\n",
    "        for imgname in os.listdir(f):\n",
    "            if (imgname in skip_list):\n",
    "                continue\n",
    "            img = os.path.join(f, imgname)\n",
    "            img_raw = io.imread(img)\n",
    "            # Resize all data to fix size\n",
    "            image_resized = resize(img_raw, (fix_size, fix_size), anti_aliasing=True)\n",
    "            rotate_save(os.path.join(f_out, imgname[0: imgname.find('.')]), image_resized)\n",
    "            if is_debug:\n",
    "                io.imshow(image_resized)\n",
    "                break\n",
    "    if is_debug:\n",
    "        break"
   ]
  }
 ],
 "metadata": {
  "kernelspec": {
   "display_name": "Python 3.9.6 64-bit",
   "language": "python",
   "name": "python3"
  },
  "language_info": {
   "codemirror_mode": {
    "name": "ipython",
    "version": 3
   },
   "file_extension": ".py",
   "mimetype": "text/x-python",
   "name": "python",
   "nbconvert_exporter": "python",
   "pygments_lexer": "ipython3",
   "version": "3.9.6"
  },
  "orig_nbformat": 4,
  "vscode": {
   "interpreter": {
    "hash": "31f2aee4e71d21fbe5cf8b01ff0e069b9275f58929596ceb00d14d90e3e16cd6"
   }
  }
 },
 "nbformat": 4,
 "nbformat_minor": 2
}
